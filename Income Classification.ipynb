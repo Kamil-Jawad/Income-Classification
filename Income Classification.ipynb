{
 "cells": [
  {
   "cell_type": "code",
   "execution_count": 1,
   "metadata": {},
   "outputs": [],
   "source": [
    "import pandas as pd\n",
    "import numpy as np\n",
    "import matplotlib.pyplot as plt\n",
    "import seaborn as sns\n",
    "from sklearn.preprocessing import LabelEncoder\n",
    "from sklearn.model_selection import train_test_split\n",
    "from sklearn.linear_model import LogisticRegression\n",
    "from sklearn.svm import SVC\n",
    "from sklearn.metrics import classification_report,confusion_matrix\n",
    "from sklearn.metrics import accuracy_score\n",
    "from sklearn.preprocessing import MinMaxScaler\n",
    "from sklearn.model_selection import GridSearchCV\n",
    "from sklearn.model_selection import cross_val_score\n",
    "from sklearn.model_selection import KFold,StratifiedKFold\n",
    "from sklearn.tree import DecisionTreeClassifier\n",
    "from sklearn.ensemble import RandomForestClassifier\n",
    "import warnings\n",
    "warnings.filterwarnings('ignore')"
   ]
  },
  {
   "cell_type": "code",
   "execution_count": 2,
   "metadata": {},
   "outputs": [
    {
     "name": "stdout",
     "output_type": "stream",
     "text": [
      "(32561, 15)\n"
     ]
    },
    {
     "data": {
      "text/html": [
       "<div>\n",
       "<style scoped>\n",
       "    .dataframe tbody tr th:only-of-type {\n",
       "        vertical-align: middle;\n",
       "    }\n",
       "\n",
       "    .dataframe tbody tr th {\n",
       "        vertical-align: top;\n",
       "    }\n",
       "\n",
       "    .dataframe thead th {\n",
       "        text-align: right;\n",
       "    }\n",
       "</style>\n",
       "<table border=\"1\" class=\"dataframe\">\n",
       "  <thead>\n",
       "    <tr style=\"text-align: right;\">\n",
       "      <th></th>\n",
       "      <th>age</th>\n",
       "      <th>workclass</th>\n",
       "      <th>fnlwgt</th>\n",
       "      <th>education</th>\n",
       "      <th>education-num</th>\n",
       "      <th>marital-status</th>\n",
       "      <th>occupation</th>\n",
       "      <th>relationship</th>\n",
       "      <th>race</th>\n",
       "      <th>sex</th>\n",
       "      <th>capital-gain</th>\n",
       "      <th>capital-loss</th>\n",
       "      <th>hours-per-week</th>\n",
       "      <th>native-country</th>\n",
       "      <th>income</th>\n",
       "    </tr>\n",
       "  </thead>\n",
       "  <tbody>\n",
       "    <tr>\n",
       "      <th>0</th>\n",
       "      <td>39</td>\n",
       "      <td>State-gov</td>\n",
       "      <td>77516</td>\n",
       "      <td>Bachelors</td>\n",
       "      <td>13</td>\n",
       "      <td>Never-married</td>\n",
       "      <td>Adm-clerical</td>\n",
       "      <td>Not-in-family</td>\n",
       "      <td>White</td>\n",
       "      <td>Male</td>\n",
       "      <td>2174</td>\n",
       "      <td>0</td>\n",
       "      <td>40</td>\n",
       "      <td>United-States</td>\n",
       "      <td>&lt;=50K</td>\n",
       "    </tr>\n",
       "    <tr>\n",
       "      <th>1</th>\n",
       "      <td>50</td>\n",
       "      <td>Self-emp-not-inc</td>\n",
       "      <td>83311</td>\n",
       "      <td>Bachelors</td>\n",
       "      <td>13</td>\n",
       "      <td>Married-civ-spouse</td>\n",
       "      <td>Exec-managerial</td>\n",
       "      <td>Husband</td>\n",
       "      <td>White</td>\n",
       "      <td>Male</td>\n",
       "      <td>0</td>\n",
       "      <td>0</td>\n",
       "      <td>13</td>\n",
       "      <td>United-States</td>\n",
       "      <td>&lt;=50K</td>\n",
       "    </tr>\n",
       "    <tr>\n",
       "      <th>2</th>\n",
       "      <td>38</td>\n",
       "      <td>Private</td>\n",
       "      <td>215646</td>\n",
       "      <td>HS-grad</td>\n",
       "      <td>9</td>\n",
       "      <td>Divorced</td>\n",
       "      <td>Handlers-cleaners</td>\n",
       "      <td>Not-in-family</td>\n",
       "      <td>White</td>\n",
       "      <td>Male</td>\n",
       "      <td>0</td>\n",
       "      <td>0</td>\n",
       "      <td>40</td>\n",
       "      <td>United-States</td>\n",
       "      <td>&lt;=50K</td>\n",
       "    </tr>\n",
       "    <tr>\n",
       "      <th>3</th>\n",
       "      <td>53</td>\n",
       "      <td>Private</td>\n",
       "      <td>234721</td>\n",
       "      <td>11th</td>\n",
       "      <td>7</td>\n",
       "      <td>Married-civ-spouse</td>\n",
       "      <td>Handlers-cleaners</td>\n",
       "      <td>Husband</td>\n",
       "      <td>Black</td>\n",
       "      <td>Male</td>\n",
       "      <td>0</td>\n",
       "      <td>0</td>\n",
       "      <td>40</td>\n",
       "      <td>United-States</td>\n",
       "      <td>&lt;=50K</td>\n",
       "    </tr>\n",
       "    <tr>\n",
       "      <th>4</th>\n",
       "      <td>28</td>\n",
       "      <td>Private</td>\n",
       "      <td>338409</td>\n",
       "      <td>Bachelors</td>\n",
       "      <td>13</td>\n",
       "      <td>Married-civ-spouse</td>\n",
       "      <td>Prof-specialty</td>\n",
       "      <td>Wife</td>\n",
       "      <td>Black</td>\n",
       "      <td>Female</td>\n",
       "      <td>0</td>\n",
       "      <td>0</td>\n",
       "      <td>40</td>\n",
       "      <td>Cuba</td>\n",
       "      <td>&lt;=50K</td>\n",
       "    </tr>\n",
       "  </tbody>\n",
       "</table>\n",
       "</div>"
      ],
      "text/plain": [
       "   age          workclass   fnlwgt   education   education-num  \\\n",
       "0   39          State-gov    77516   Bachelors              13   \n",
       "1   50   Self-emp-not-inc    83311   Bachelors              13   \n",
       "2   38            Private   215646     HS-grad               9   \n",
       "3   53            Private   234721        11th               7   \n",
       "4   28            Private   338409   Bachelors              13   \n",
       "\n",
       "        marital-status          occupation    relationship    race      sex  \\\n",
       "0        Never-married        Adm-clerical   Not-in-family   White     Male   \n",
       "1   Married-civ-spouse     Exec-managerial         Husband   White     Male   \n",
       "2             Divorced   Handlers-cleaners   Not-in-family   White     Male   \n",
       "3   Married-civ-spouse   Handlers-cleaners         Husband   Black     Male   \n",
       "4   Married-civ-spouse      Prof-specialty            Wife   Black   Female   \n",
       "\n",
       "    capital-gain   capital-loss   hours-per-week  native-country  income  \n",
       "0           2174              0               40   United-States   <=50K  \n",
       "1              0              0               13   United-States   <=50K  \n",
       "2              0              0               40   United-States   <=50K  \n",
       "3              0              0               40   United-States   <=50K  \n",
       "4              0              0               40            Cuba   <=50K  "
      ]
     },
     "execution_count": 2,
     "metadata": {},
     "output_type": "execute_result"
    }
   ],
   "source": [
    "df=pd.read_csv('D:\\\\DataSets\\\\archive_2\\\\income_evaluation.csv')\n",
    "df.columns.tolist()\n",
    "print(df.shape)\n",
    "df.head()"
   ]
  },
  {
   "cell_type": "code",
   "execution_count": 3,
   "metadata": {},
   "outputs": [
    {
     "name": "stdout",
     "output_type": "stream",
     "text": [
      "<class 'pandas.core.frame.DataFrame'>\n",
      "RangeIndex: 32561 entries, 0 to 32560\n",
      "Data columns (total 15 columns):\n",
      " #   Column           Non-Null Count  Dtype \n",
      "---  ------           --------------  ----- \n",
      " 0   age              32561 non-null  int64 \n",
      " 1    workclass       32561 non-null  object\n",
      " 2    fnlwgt          32561 non-null  int64 \n",
      " 3    education       32561 non-null  object\n",
      " 4    education-num   32561 non-null  int64 \n",
      " 5    marital-status  32561 non-null  object\n",
      " 6    occupation      32561 non-null  object\n",
      " 7    relationship    32561 non-null  object\n",
      " 8    race            32561 non-null  object\n",
      " 9    sex             32561 non-null  object\n",
      " 10   capital-gain    32561 non-null  int64 \n",
      " 11   capital-loss    32561 non-null  int64 \n",
      " 12   hours-per-week  32561 non-null  int64 \n",
      " 13   native-country  32561 non-null  object\n",
      " 14   income          32561 non-null  object\n",
      "dtypes: int64(6), object(9)\n",
      "memory usage: 3.7+ MB\n"
     ]
    }
   ],
   "source": [
    "df.info()"
   ]
  },
  {
   "cell_type": "code",
   "execution_count": 4,
   "metadata": {},
   "outputs": [
    {
     "data": {
      "text/plain": [
       "Index(['age', 'workclass', 'fnlwgt', 'education', 'education-num',\n",
       "       'marital-status', 'occupation', 'relationship', 'race', 'sex',\n",
       "       'capital-gain', 'capital-loss', 'hours-per-week', 'native-country',\n",
       "       'income'],\n",
       "      dtype='object')"
      ]
     },
     "execution_count": 4,
     "metadata": {},
     "output_type": "execute_result"
    }
   ],
   "source": [
    "# In columns names there is space at the start of columns so, remove this\n",
    "df.columns=df.columns.str.replace(' ','')\n",
    "df.columns"
   ]
  },
  {
   "cell_type": "code",
   "execution_count": 5,
   "metadata": {},
   "outputs": [
    {
     "data": {
      "text/plain": [
       "array([' State-gov', ' Self-emp-not-inc', ' Private', ' Federal-gov',\n",
       "       ' Local-gov', ' ?', ' Self-emp-inc', ' Without-pay',\n",
       "       ' Never-worked'], dtype=object)"
      ]
     },
     "execution_count": 5,
     "metadata": {},
     "output_type": "execute_result"
    }
   ],
   "source": [
    "df.workclass.unique()"
   ]
  },
  {
   "cell_type": "code",
   "execution_count": 6,
   "metadata": {},
   "outputs": [
    {
     "data": {
      "text/plain": [
       "[' Bachelors',\n",
       " ' HS-grad',\n",
       " ' 11th',\n",
       " ' Masters',\n",
       " ' 9th',\n",
       " ' Some-college',\n",
       " ' Assoc-acdm',\n",
       " ' Assoc-voc',\n",
       " ' 7th-8th',\n",
       " ' Doctorate',\n",
       " ' Prof-school',\n",
       " ' 5th-6th',\n",
       " ' 10th',\n",
       " ' 1st-4th',\n",
       " ' Preschool',\n",
       " ' 12th']"
      ]
     },
     "execution_count": 6,
     "metadata": {},
     "output_type": "execute_result"
    }
   ],
   "source": [
    "df.education.unique().tolist()"
   ]
  },
  {
   "cell_type": "code",
   "execution_count": 7,
   "metadata": {},
   "outputs": [
    {
     "data": {
      "text/plain": [
       "array([13,  9,  7, 14,  5, 10, 12, 11,  4, 16, 15,  3,  6,  2,  1,  8],\n",
       "      dtype=int64)"
      ]
     },
     "execution_count": 7,
     "metadata": {},
     "output_type": "execute_result"
    }
   ],
   "source": [
    "df['education-num'].unique()"
   ]
  },
  {
   "cell_type": "code",
   "execution_count": 8,
   "metadata": {},
   "outputs": [
    {
     "data": {
      "text/plain": [
       "array([' Never-married', ' Married-civ-spouse', ' Divorced',\n",
       "       ' Married-spouse-absent', ' Separated', ' Married-AF-spouse',\n",
       "       ' Widowed'], dtype=object)"
      ]
     },
     "execution_count": 8,
     "metadata": {},
     "output_type": "execute_result"
    }
   ],
   "source": [
    "df['marital-status'].unique()"
   ]
  },
  {
   "cell_type": "code",
   "execution_count": 9,
   "metadata": {},
   "outputs": [
    {
     "data": {
      "text/plain": [
       "array([' Adm-clerical', ' Exec-managerial', ' Handlers-cleaners',\n",
       "       ' Prof-specialty', ' Other-service', ' Sales', ' Craft-repair',\n",
       "       ' Transport-moving', ' Farming-fishing', ' Machine-op-inspct',\n",
       "       ' Tech-support', ' ?', ' Protective-serv', ' Armed-Forces',\n",
       "       ' Priv-house-serv'], dtype=object)"
      ]
     },
     "execution_count": 9,
     "metadata": {},
     "output_type": "execute_result"
    }
   ],
   "source": [
    "df.occupation.unique()"
   ]
  },
  {
   "cell_type": "code",
   "execution_count": 10,
   "metadata": {},
   "outputs": [
    {
     "data": {
      "image/png": "[encoded data removed]",
      "text/plain": [
       "<Figure size 432x288 with 1 Axes>"
      ]
     },
     "metadata": {
      "needs_background": "light"
     },
     "output_type": "display_data"
    }
   ],
   "source": [
    "income_data=df['income'].value_counts().reset_index()\n",
    "income_data.columns=['income','frequency']\n",
    "\n",
    "plt.bar(income_data['income'],income_data['frequency'],color=['red','pink']);\n",
    "# imblance classes, huge difference"
   ]
  },
  {
   "cell_type": "code",
   "execution_count": 11,
   "metadata": {},
   "outputs": [
    {
     "data": {
      "text/plain": [
       "age               0\n",
       "workclass         0\n",
       "fnlwgt            0\n",
       "education         0\n",
       "education-num     0\n",
       "marital-status    0\n",
       "occupation        0\n",
       "relationship      0\n",
       "race              0\n",
       "sex               0\n",
       "capital-gain      0\n",
       "capital-loss      0\n",
       "hours-per-week    0\n",
       "native-country    0\n",
       "income            0\n",
       "dtype: int64"
      ]
     },
     "execution_count": 11,
     "metadata": {},
     "output_type": "execute_result"
    }
   ],
   "source": [
    "df.isnull().sum()"
   ]
  },
  {
   "cell_type": "code",
   "execution_count": 12,
   "metadata": {},
   "outputs": [
    {
     "data": {
      "text/html": [
       "<div>\n",
       "<style scoped>\n",
       "    .dataframe tbody tr th:only-of-type {\n",
       "        vertical-align: middle;\n",
       "    }\n",
       "\n",
       "    .dataframe tbody tr th {\n",
       "        vertical-align: top;\n",
       "    }\n",
       "\n",
       "    .dataframe thead th {\n",
       "        text-align: right;\n",
       "    }\n",
       "</style>\n",
       "<table border=\"1\" class=\"dataframe\">\n",
       "  <thead>\n",
       "    <tr style=\"text-align: right;\">\n",
       "      <th></th>\n",
       "      <th>age</th>\n",
       "      <th>fnlwgt</th>\n",
       "      <th>education-num</th>\n",
       "      <th>capital-gain</th>\n",
       "      <th>capital-loss</th>\n",
       "      <th>hours-per-week</th>\n",
       "    </tr>\n",
       "  </thead>\n",
       "  <tbody>\n",
       "    <tr>\n",
       "      <th>count</th>\n",
       "      <td>32561.000000</td>\n",
       "      <td>3.256100e+04</td>\n",
       "      <td>32561.000000</td>\n",
       "      <td>32561.000000</td>\n",
       "      <td>32561.000000</td>\n",
       "      <td>32561.000000</td>\n",
       "    </tr>\n",
       "    <tr>\n",
       "      <th>mean</th>\n",
       "      <td>38.581647</td>\n",
       "      <td>1.897784e+05</td>\n",
       "      <td>10.080679</td>\n",
       "      <td>1077.648844</td>\n",
       "      <td>87.303830</td>\n",
       "      <td>40.437456</td>\n",
       "    </tr>\n",
       "    <tr>\n",
       "      <th>std</th>\n",
       "      <td>13.640433</td>\n",
       "      <td>1.055500e+05</td>\n",
       "      <td>2.572720</td>\n",
       "      <td>7385.292085</td>\n",
       "      <td>402.960219</td>\n",
       "      <td>12.347429</td>\n",
       "    </tr>\n",
       "    <tr>\n",
       "      <th>min</th>\n",
       "      <td>17.000000</td>\n",
       "      <td>1.228500e+04</td>\n",
       "      <td>1.000000</td>\n",
       "      <td>0.000000</td>\n",
       "      <td>0.000000</td>\n",
       "      <td>1.000000</td>\n",
       "    </tr>\n",
       "    <tr>\n",
       "      <th>25%</th>\n",
       "      <td>28.000000</td>\n",
       "      <td>1.178270e+05</td>\n",
       "      <td>9.000000</td>\n",
       "      <td>0.000000</td>\n",
       "      <td>0.000000</td>\n",
       "      <td>40.000000</td>\n",
       "    </tr>\n",
       "    <tr>\n",
       "      <th>50%</th>\n",
       "      <td>37.000000</td>\n",
       "      <td>1.783560e+05</td>\n",
       "      <td>10.000000</td>\n",
       "      <td>0.000000</td>\n",
       "      <td>0.000000</td>\n",
       "      <td>40.000000</td>\n",
       "    </tr>\n",
       "    <tr>\n",
       "      <th>75%</th>\n",
       "      <td>48.000000</td>\n",
       "      <td>2.370510e+05</td>\n",
       "      <td>12.000000</td>\n",
       "      <td>0.000000</td>\n",
       "      <td>0.000000</td>\n",
       "      <td>45.000000</td>\n",
       "    </tr>\n",
       "    <tr>\n",
       "      <th>max</th>\n",
       "      <td>90.000000</td>\n",
       "      <td>1.484705e+06</td>\n",
       "      <td>16.000000</td>\n",
       "      <td>99999.000000</td>\n",
       "      <td>4356.000000</td>\n",
       "      <td>99.000000</td>\n",
       "    </tr>\n",
       "  </tbody>\n",
       "</table>\n",
       "</div>"
      ],
      "text/plain": [
       "                age        fnlwgt  education-num  capital-gain  capital-loss  \\\n",
       "count  32561.000000  3.256100e+04   32561.000000  32561.000000  32561.000000   \n",
       "mean      38.581647  1.897784e+05      10.080679   1077.648844     87.303830   \n",
       "std       13.640433  1.055500e+05       2.572720   7385.292085    402.960219   \n",
       "min       17.000000  1.228500e+04       1.000000      0.000000      0.000000   \n",
       "25%       28.000000  1.178270e+05       9.000000      0.000000      0.000000   \n",
       "50%       37.000000  1.783560e+05      10.000000      0.000000      0.000000   \n",
       "75%       48.000000  2.370510e+05      12.000000      0.000000      0.000000   \n",
       "max       90.000000  1.484705e+06      16.000000  99999.000000   4356.000000   \n",
       "\n",
       "       hours-per-week  \n",
       "count    32561.000000  \n",
       "mean        40.437456  \n",
       "std         12.347429  \n",
       "min          1.000000  \n",
       "25%         40.000000  \n",
       "50%         40.000000  \n",
       "75%         45.000000  \n",
       "max         99.000000  "
      ]
     },
     "execution_count": 12,
     "metadata": {},
     "output_type": "execute_result"
    }
   ],
   "source": [
    "df.describe()"
   ]
  },
  {
   "cell_type": "code",
   "execution_count": 13,
   "metadata": {},
   "outputs": [
    {
     "data": {
      "image/png": "[encoded data removed]",
      "text/plain": [
       "<Figure size 432x288 with 1 Axes>"
      ]
     },
     "metadata": {
      "needs_background": "light"
     },
     "output_type": "display_data"
    }
   ],
   "source": [
    "sns.boxplot(x=df['income'],y=df['fnlwgt']);\n",
    "# There are outliers"
   ]
  },
  {
   "cell_type": "markdown",
   "metadata": {},
   "source": [
    "### Let's prepare the data for model"
   ]
  },
  {
   "cell_type": "code",
   "execution_count": 14,
   "metadata": {},
   "outputs": [],
   "source": [
    "# X=df[['age','fnlwgt','education-num','sex','capital-gain','capital-loss','hours-per-week']]\n",
    "# # x.info()\n",
    "# X['sex']=X['sex'].astype(\"category\")\n",
    "\n",
    "# here is the 'sex' column which is categorical so, we have to label this column...\n",
    "# There is two main labelling concepts.\n",
    "# one is label-encoding and other is one-hot-encoding\n",
    "\n",
    "# remember perform encoding after train test split \n",
    "\n",
    "# if you have some kind of order and have more categories then you use label-encoding\n",
    "# if you don't have any order and have comparitively less categories then you should \n",
    "# choose one-hot-encoding\n",
    "\n",
    "\n",
    "# there is different methods for both encodings in python\n",
    "\n",
    "# label-encoding method # 01\n",
    "\n",
    "# x.info()\n",
    "# x['sex'] = x['sex'].cat.codes\n",
    "# x['sex']\n",
    "\n",
    "# label-encoding method # 02\n",
    "\n",
    "# using sklearn\n",
    "\n",
    "# from sklearn.preprocessing import LabelEncoder\n",
    "# labelencoder=LabelEncoder()\n",
    "# x['sex'] = labelencoder.fit_transform(x['sex'])\n",
    "# x['sex'][1:30]\n",
    "\n",
    "# one-hot-encoding method # 01\n",
    "\n",
    "# using sklearn\n",
    "# OneHotEncoder from SciKit library only takes numerical categorical values\n",
    "\n",
    "# x['sex'] = x['sex'].cat.codes\n",
    "# from sklearn.preprocessing import OneHotEncoder\n",
    "# enc = OneHotEncoder(handle_unknown='ignore')\n",
    "# enc_df=pd.DataFrame(enc.fit_transform(df[['sex']]).toarray())\n",
    "# df = df.join(enc_df)\n",
    "# df.head()\n",
    "\n",
    "# one-hot-encoding method # 02\n",
    "\n",
    "# using get_dummies methods\n",
    "\n",
    "# x1 = pd.DataFrame(x['sex'], columns=['sex'])\n",
    "# # generate binary values using get_dummies\n",
    "# dum_df = pd.get_dummies(x1, columns=[\"sex\"], prefix=[\"Type_is\"] )\n",
    "# # merge with main df bridge_df on key values\n",
    "# x = x.join(dum_df)\n",
    "# x\n",
    "\n",
    "# some algorithm preform well on categorical variable like decision tree but some \n",
    "# required to convert categorical to numerical form"
   ]
  },
  {
   "cell_type": "code",
   "execution_count": 15,
   "metadata": {},
   "outputs": [],
   "source": [
    "X=df[['age','fnlwgt','education-num','sex','capital-gain','capital-loss','hours-per-week']]\n",
    "X['sex']=X['sex'].astype(\"category\")\n",
    "Y=df['income']\n",
    "X_train,X_test,y_train,y_test=train_test_split(X,Y,random_state=1,train_size=0.75)\n",
    "\n",
    "labelencoder=LabelEncoder()\n",
    "\n",
    "X_train['sex'] = labelencoder.fit_transform(X_train['sex'])\n",
    "X_test['sex'] = labelencoder.transform(X_test['sex'])\n",
    "\n",
    "y_train=labelencoder.fit_transform(y_train)\n",
    "y_test=labelencoder.transform(y_test)"
   ]
  },
  {
   "cell_type": "code",
   "execution_count": 32,
   "metadata": {},
   "outputs": [
    {
     "data": {
      "image/png": "[encoded data removed]",
      "text/plain": [
       "<Figure size 720x216 with 2 Axes>"
      ]
     },
     "metadata": {
      "needs_background": "light"
     },
     "output_type": "display_data"
    }
   ],
   "source": [
    "fig,ax=plt.subplots(1,2,figsize=(10, 3))\n",
    "sns.countplot(X_train['sex'],label='count',ax=ax[0])\n",
    "ax[0].set_title('Train data')\n",
    "\n",
    "sns.countplot(X_test['sex'],label='count',ax=ax[1])\n",
    "ax[1].set_title('test data')\n",
    "plt.show()"
   ]
  },
  {
   "cell_type": "code",
   "execution_count": 33,
   "metadata": {},
   "outputs": [
    {
     "data": {
      "image/png": "[encoded data removed]",
      "text/plain": [
       "<Figure size 720x216 with 2 Axes>"
      ]
     },
     "metadata": {
      "needs_background": "light"
     },
     "output_type": "display_data"
    }
   ],
   "source": [
    "fig,ax=plt.subplots(1,2,figsize=(10, 3))\n",
    "sns.countplot(y_train,label='count',ax=ax[0])\n",
    "ax[0].set_title('y_train')\n",
    "sns.countplot(y_test,label='count',ax=ax[1])\n",
    "ax[1].set_title('y_test')\n",
    "plt.show()"
   ]
  },
  {
   "cell_type": "markdown",
   "metadata": {},
   "source": [
    "### LogisticRegression"
   ]
  },
  {
   "cell_type": "code",
   "execution_count": 34,
   "metadata": {},
   "outputs": [
    {
     "data": {
      "text/plain": [
       "LogisticRegression()"
      ]
     },
     "execution_count": 34,
     "metadata": {},
     "output_type": "execute_result"
    }
   ],
   "source": [
    "lr=LogisticRegression()\n",
    "lr.fit(X_train, y_train)"
   ]
  },
  {
   "cell_type": "code",
   "execution_count": 35,
   "metadata": {},
   "outputs": [],
   "source": [
    "y_pred=lr.predict(X_test)"
   ]
  },
  {
   "cell_type": "code",
   "execution_count": 36,
   "metadata": {},
   "outputs": [
    {
     "name": "stdout",
     "output_type": "stream",
     "text": [
      "Confusion Matrix : \n",
      " [[6093  210]\n",
      " [1360  478]]\n",
      "\n",
      "\n",
      "classification_report : \n",
      "               precision    recall  f1-score   support\n",
      "\n",
      "           0       0.82      0.97      0.89      6303\n",
      "           1       0.69      0.26      0.38      1838\n",
      "\n",
      "    accuracy                           0.81      8141\n",
      "   macro avg       0.76      0.61      0.63      8141\n",
      "weighted avg       0.79      0.81      0.77      8141\n",
      "\n"
     ]
    },
    {
     "data": {
      "image/png": "[encoded data removed]",
      "text/plain": [
       "<Figure size 432x288 with 2 Axes>"
      ]
     },
     "metadata": {
      "needs_background": "light"
     },
     "output_type": "display_data"
    }
   ],
   "source": [
    "cm=confusion_matrix(y_test,y_pred)\n",
    "print('Confusion Matrix : \\n',cm)\n",
    "sns.heatmap(cm,annot=True);\n",
    "print('\\n')\n",
    "print('classification_report : \\n',classification_report(y_test,y_pred))\n",
    "\n",
    "# Recall or True Positive Rate (TPR) or Sensitivity or Probability of detection\n",
    "# When it's actually yes, how often does it predict yes?\n",
    "# Recall=TP/TP+FN(actual)\n",
    "\n",
    "# precision\n",
    "# When it predicts yes, how often is it correct? or what fraction of positive prediction \n",
    "# are correct\n",
    "# TP/TP+FP(predicted)\n",
    "\n",
    "#True Negative Rate (TNR) or Specificity\n",
    "# When it's actually no, how often does it predict no?\n",
    "# TNR=TN/TN+FP\n",
    "\n",
    "# False Positive Rate (FPR) or 1 - specificity\n",
    "# When it's actually no, how often does it predict yes? or what fraction of all negetive\n",
    "# instance does the classifier incorrectly indentify as positive\n",
    "# FPR=FP/TN+FP\n",
    "\n",
    "# Missclassification Rate\n",
    "# Overall how often is it wrong (overall incorrect prediction)\n",
    "# FP+FN/total\n",
    "\n",
    "# F1-score\n",
    "# It is difficult to compare two models with low precision and high recall or vice versa. \n",
    "# Diffcult to distiguish between precision and recall for the project.\n",
    "# So to make them comparable, we use F1-Score. F1-score helps to measure Recall and Precision \n",
    "# at the same time. It uses Harmonic Mean in place of Arithmetic Mean by punishing the extreme \n",
    "# values more.It is maximum when Precision is equal to Recall.\n",
    "# F1=2*((precision*recall)/(precision+recall))"
   ]
  },
  {
   "cell_type": "code",
   "execution_count": 37,
   "metadata": {},
   "outputs": [
    {
     "name": "stdout",
     "output_type": "stream",
     "text": [
      "Accuracy:  80.71\n",
      "Missclassification Rate:  19.29\n"
     ]
    }
   ],
   "source": [
    "print('Accuracy: ',round(accuracy_score(y_test,y_pred)*100,2)) # TP+TN/total is accuracy\n",
    "# print((cm[0,0]+cm[1,1])/cm.sum())\n",
    "\n",
    "# Missclassification Rate: Overall how often is it wrong (overall incorrect prediction)\n",
    "# FP+FN/total\n",
    "print('Missclassification Rate: ',round((cm[0,1]+cm[1,0])/cm.sum()*100,2))"
   ]
  },
  {
   "cell_type": "code",
   "execution_count": 38,
   "metadata": {},
   "outputs": [
    {
     "name": "stdout",
     "output_type": "stream",
     "text": [
      "Recall:  26.01\n",
      "Precision:  69.48\n"
     ]
    }
   ],
   "source": [
    "print('Recall: ',round((cm[1,1]/(cm[1,1]+cm[1,0]))*100,2)) # Recall=TP/TP+FN(actual)\n",
    "\n",
    "print('Precision: ',round((cm[1,1]/(cm[1,1]+cm[0,1]))*100,2)) # TP/TP+FP(predicted)"
   ]
  },
  {
   "cell_type": "code",
   "execution_count": 39,
   "metadata": {},
   "outputs": [
    {
     "data": {
      "text/plain": [
       "0    7453\n",
       "1     688\n",
       "dtype: int64"
      ]
     },
     "execution_count": 39,
     "metadata": {},
     "output_type": "execute_result"
    }
   ],
   "source": [
    "pd.Series(y_pred).value_counts() # predicted by the model 0 and 1 sample"
   ]
  },
  {
   "cell_type": "code",
   "execution_count": 40,
   "metadata": {},
   "outputs": [
    {
     "data": {
      "text/plain": [
       "0    6303\n",
       "1    1838\n",
       "dtype: int64"
      ]
     },
     "execution_count": 40,
     "metadata": {},
     "output_type": "execute_result"
    }
   ],
   "source": [
    "pd.Series(y_test).value_counts() # test 0 and 1 sample"
   ]
  },
  {
   "cell_type": "code",
   "execution_count": 41,
   "metadata": {},
   "outputs": [
    {
     "data": {
      "text/plain": [
       "8141"
      ]
     },
     "execution_count": 41,
     "metadata": {},
     "output_type": "execute_result"
    }
   ],
   "source": [
    "pd.Series(y_test).value_counts().sum() # total sample"
   ]
  },
  {
   "cell_type": "markdown",
   "metadata": {},
   "source": [
    "### SVM"
   ]
  },
  {
   "cell_type": "code",
   "execution_count": 42,
   "metadata": {},
   "outputs": [],
   "source": [
    "svclassifier=SVC(kernel='rbf')"
   ]
  },
  {
   "cell_type": "code",
   "execution_count": 43,
   "metadata": {},
   "outputs": [
    {
     "data": {
      "text/plain": [
       "SVC()"
      ]
     },
     "execution_count": 43,
     "metadata": {},
     "output_type": "execute_result"
    }
   ],
   "source": [
    "svclassifier.fit(X_train, y_train)"
   ]
  },
  {
   "cell_type": "code",
   "execution_count": 44,
   "metadata": {},
   "outputs": [],
   "source": [
    "y_pred=svclassifier.predict(X_test)"
   ]
  },
  {
   "cell_type": "code",
   "execution_count": 45,
   "metadata": {},
   "outputs": [
    {
     "name": "stdout",
     "output_type": "stream",
     "text": [
      "confusion_matrix:\n",
      " [[6292   11]\n",
      " [1554  284]]\n"
     ]
    }
   ],
   "source": [
    "cm=confusion_matrix(y_test,y_pred)\n",
    "print('confusion_matrix:\\n',cm)"
   ]
  },
  {
   "cell_type": "code",
   "execution_count": 46,
   "metadata": {},
   "outputs": [
    {
     "name": "stdout",
     "output_type": "stream",
     "text": [
      "Accuracy: 80.78\n"
     ]
    }
   ],
   "source": [
    "print('Accuracy:',round(accuracy_score(y_test,y_pred)*100,2))"
   ]
  },
  {
   "cell_type": "code",
   "execution_count": 31,
   "metadata": {
    "code_folding": []
   },
   "outputs": [],
   "source": [
    "# C parameter tuning,Without data scalling\n",
    "# C_values=[0.5,1.0,10.0,100.0,1000.0,10000.0,50000.0,100000.0] # default=1.0\n",
    "\n",
    "# for i in C_values:\n",
    "#     svclassifier=SVC(kernel='rbf',C=i)\n",
    "#     svclassifier.fit(X_train, y_train)\n",
    "#     y_pred=svclassifier.predict(X_test)\n",
    "#     a=(round(accuracy_score(y_test,y_pred)*100,2))\n",
    "#     print('C parameter is {0} and Accuracy is {1}'.format(i,a))"
   ]
  },
  {
   "cell_type": "code",
   "execution_count": 32,
   "metadata": {
    "code_folding": []
   },
   "outputs": [],
   "source": [
    "# C and Gamma parameter tuning, Without data scalling\n",
    "# gamma_value=[50000.0,100000.0]\n",
    "# C_values=[50000.0,100000.0]  # default=1.0\n",
    "\n",
    "# for g in gamma_value:\n",
    "#     '\\n'\n",
    "# for i in C_values:\n",
    "#     svclassifier=SVC(kernel='rbf',C=i,gamma='auto')\n",
    "#     svclassifier.fit(X_train, y_train)\n",
    "#     y_pred=svclassifier.predict(X_test)\n",
    "#     a=(round(accuracy_score(y_test,y_pred)*100,2))\n",
    "#         print('Gamma is {}'.format(g))\n",
    "#     print('C parameter is {0} and Accuracy is {1}'.format(i,a))\n",
    "        \n",
    "        \n",
    "#         Result\n",
    "\n",
    "# Gamma is 50000.0\n",
    "# C parameter is 50000.0 and Accuracy is 77.39\n",
    "# Gamma is 50000.0\n",
    "# C parameter is 100000.0 and Accuracy is 77.39\n",
    "# Gamma is 100000.0\n",
    "# C parameter is 50000.0 and Accuracy is 77.39\n",
    "# Gamma is 100000.0\n",
    "# C parameter is 100000.0 and Accuracy is 77.39"
   ]
  },
  {
   "cell_type": "markdown",
   "metadata": {},
   "source": [
    "### Cross Validation"
   ]
  },
  {
   "cell_type": "code",
   "execution_count": 47,
   "metadata": {},
   "outputs": [],
   "source": [
    "X=df[['age','fnlwgt','education-num','sex','capital-gain','capital-loss','hours-per-week']]\n",
    "labelencoder=LabelEncoder()\n",
    "X['sex']=labelencoder.fit_transform(X['sex'])\n",
    "Y=df['income']\n",
    "Y=labelencoder.fit_transform(Y)"
   ]
  },
  {
   "cell_type": "code",
   "execution_count": 48,
   "metadata": {},
   "outputs": [
    {
     "data": {
      "text/plain": [
       "array([0.78999079, 0.80313268, 0.80497543, 0.79176904, 0.79484029,\n",
       "       0.8009828 , 0.79637592, 0.79668305, 0.79269042, 0.78839066])"
      ]
     },
     "execution_count": 48,
     "metadata": {},
     "output_type": "execute_result"
    }
   ],
   "source": [
    "kfold_val=KFold(10)\n",
    "svclassifier=SVC(kernel='rbf')\n",
    "cross_val_result=cross_val_score(svclassifier,X,Y,cv=kfold_val)\n",
    "cross_val_result"
   ]
  },
  {
   "cell_type": "code",
   "execution_count": 49,
   "metadata": {},
   "outputs": [
    {
     "name": "stdout",
     "output_type": "stream",
     "text": [
      "average accuracy :  0.7959831083909992\n",
      "min. accuracy :  0.7883906633906634\n",
      "max. accuracy :  0.8049754299754299\n"
     ]
    }
   ],
   "source": [
    "print('average accuracy : ',np.mean(cross_val_result))\n",
    "print('min. accuracy : ',cross_val_result.min())\n",
    "print('max. accuracy : ',cross_val_result.max())"
   ]
  },
  {
   "cell_type": "code",
   "execution_count": 50,
   "metadata": {},
   "outputs": [
    {
     "data": {
      "text/plain": [
       "array([0.79579303, 0.79437961, 0.79499386, 0.79745086, 0.79422604])"
      ]
     },
     "execution_count": 50,
     "metadata": {},
     "output_type": "execute_result"
    }
   ],
   "source": [
    "stratified=StratifiedKFold(n_splits=5) # it is use when data contain imbalanced classes\n",
    "cross_val_result=cross_val_score(svclassifier,X,Y,cv=stratified)\n",
    "cross_val_result"
   ]
  },
  {
   "cell_type": "code",
   "execution_count": 51,
   "metadata": {},
   "outputs": [
    {
     "name": "stdout",
     "output_type": "stream",
     "text": [
      "average accuracy :  0.7953686795752664\n",
      "min. accuracy :  0.7942260442260443\n",
      "max. accuracy :  0.79745085995086\n"
     ]
    }
   ],
   "source": [
    "print('average accuracy : ',np.mean(cross_val_result))\n",
    "print('min. accuracy : ',cross_val_result.min())\n",
    "print('max. accuracy : ',cross_val_result.max())"
   ]
  },
  {
   "cell_type": "markdown",
   "metadata": {},
   "source": [
    "### Normalization and GridSearch"
   ]
  },
  {
   "cell_type": "code",
   "execution_count": 52,
   "metadata": {},
   "outputs": [],
   "source": [
    "scaler=MinMaxScaler()\n",
    "Scaled_X_train=scaler.fit_transform(X_train)\n",
    "Scaled_X_test=scaler.transform(X_test)\n",
    "\n",
    "grid_param={'C':[0.5,1.0,10.0,100.0],'kernel':['rbf','sigmoid']}\n",
    "gridsvclassifier=GridSearchCV(SVC(),grid_param)\n",
    "gridsvclassifier.fit(Scaled_X_train, y_train)\n",
    "y_pred=gridsvclassifier.predict(Scaled_X_test)\n",
    "cm=confusion_matrix(y_test,y_pred)"
   ]
  },
  {
   "cell_type": "code",
   "execution_count": 53,
   "metadata": {},
   "outputs": [
    {
     "name": "stdout",
     "output_type": "stream",
     "text": [
      "confusion_matrix:\n",
      " [[5997  306]\n",
      " [ 978  860]]\n",
      "\n",
      "Accuracy: 84.23\n",
      "\n",
      "Best Parameters: {'C': 100.0, 'kernel': 'rbf'}\n",
      "\n",
      "Best Estimator: SVC(C=100.0)\n",
      "\n",
      "Best Score: 0.831941031941032\n",
      "\n",
      "Best Index: 6\n"
     ]
    }
   ],
   "source": [
    "print('confusion_matrix:\\n',cm)\n",
    "print('\\nAccuracy:',round(accuracy_score(y_test,y_pred)*100,2))\n",
    "print('\\nBest Parameters:',gridsvclassifier.best_params_)\n",
    "print('\\nBest Estimator:',gridsvclassifier.best_estimator_)\n",
    "print('\\nBest Score:',gridsvclassifier.best_score_)\n",
    "print('\\nBest Index:',gridsvclassifier.best_index_)"
   ]
  },
  {
   "cell_type": "markdown",
   "metadata": {},
   "source": [
    "### Decision Tree"
   ]
  },
  {
   "cell_type": "code",
   "execution_count": 54,
   "metadata": {},
   "outputs": [
    {
     "data": {
      "text/plain": [
       "DecisionTreeClassifier()"
      ]
     },
     "execution_count": 54,
     "metadata": {},
     "output_type": "execute_result"
    }
   ],
   "source": [
    "treeclr=DecisionTreeClassifier()\n",
    "treeclr.fit(X_train, y_train)"
   ]
  },
  {
   "cell_type": "code",
   "execution_count": 55,
   "metadata": {},
   "outputs": [
    {
     "name": "stdout",
     "output_type": "stream",
     "text": [
      "confusion_matrix:\n",
      " [[5369  934]\n",
      " [ 792 1046]]\n",
      "\n",
      "accuracy: 78.8\n"
     ]
    }
   ],
   "source": [
    "y_pred=treeclr.predict(X_test)\n",
    "tree_cm=confusion_matrix(y_test,y_pred)\n",
    "print('confusion_matrix:\\n',tree_cm)\n",
    "print('\\naccuracy:',round(accuracy_score(y_test,y_pred)*100,2))"
   ]
  },
  {
   "cell_type": "markdown",
   "metadata": {},
   "source": [
    "### Decision Tree with Normalize data"
   ]
  },
  {
   "cell_type": "code",
   "execution_count": 56,
   "metadata": {},
   "outputs": [
    {
     "data": {
      "text/plain": [
       "DecisionTreeClassifier()"
      ]
     },
     "execution_count": 56,
     "metadata": {},
     "output_type": "execute_result"
    }
   ],
   "source": [
    "treeclr_scaled=DecisionTreeClassifier()\n",
    "treeclr_scaled.fit(Scaled_X_train, y_train)"
   ]
  },
  {
   "cell_type": "code",
   "execution_count": 57,
   "metadata": {},
   "outputs": [
    {
     "name": "stdout",
     "output_type": "stream",
     "text": [
      "confusion_matrix:\n",
      " [[5350  953]\n",
      " [ 787 1051]]\n",
      "\n",
      "Accuracy: 78.63\n"
     ]
    }
   ],
   "source": [
    "y_pred1=treeclr_scaled.predict(Scaled_X_test)\n",
    "tree_cm1=confusion_matrix(y_test,y_pred1)\n",
    "print('confusion_matrix:\\n',tree_cm1)\n",
    "print('\\nAccuracy:',round(accuracy_score(y_test,y_pred1)*100,2))"
   ]
  },
  {
   "cell_type": "markdown",
   "metadata": {},
   "source": [
    "### Random Forest"
   ]
  },
  {
   "cell_type": "code",
   "execution_count": 58,
   "metadata": {},
   "outputs": [],
   "source": [
    "model=RandomForestClassifier()\n",
    "model.fit(X_train,y_train)\n",
    "y_pred1=model.predict(X_test)"
   ]
  },
  {
   "cell_type": "code",
   "execution_count": 59,
   "metadata": {},
   "outputs": [
    {
     "name": "stdout",
     "output_type": "stream",
     "text": [
      "confusion_matrix:\n",
      " [[5714  589]\n",
      " [ 814 1024]]\n",
      "\n",
      "accuracy: 82.77\n"
     ]
    }
   ],
   "source": [
    "cm2=confusion_matrix(y_test,y_pred1)\n",
    "print('confusion_matrix:\\n',cm2)\n",
    "print('\\naccuracy:',round(accuracy_score(y_test,y_pred1)*100,2))"
   ]
  },
  {
   "cell_type": "code",
   "execution_count": 60,
   "metadata": {},
   "outputs": [
    {
     "name": "stdout",
     "output_type": "stream",
     "text": [
      "Variable: fnlwgt               Importance: 34.47\n",
      "Variable: age                  Importance: 20.63\n",
      "Variable: capital-gain         Importance: 13.64\n",
      "Variable: education-num        Importance: 12.48\n",
      "Variable: hours-per-week       Importance: 10.45\n",
      "Variable: capital-loss         Importance: 4.85\n",
      "Variable: sex                  Importance: 3.49\n"
     ]
    }
   ],
   "source": [
    "importance_value=np.round((model.feature_importances_)*100,2)\n",
    "# print(importance_value)\n",
    "# print('\\n')\n",
    "# for c,i in zip(X_train.columns,importance_features):\n",
    "#     print('Feature is {0} and importance is {1}'.format(c,i))\n",
    "importance_features=[(feature,importance1) for feature,importance1 in zip(X_train.columns,importance_value)]\n",
    "importance_features=sorted(importance_features,key=lambda x: x[1],reverse=True) \n",
    "[print('Variable: {:20} Importance: {}'.format(*pair)) for pair in importance_features];"
   ]
  },
  {
   "cell_type": "code",
   "execution_count": 61,
   "metadata": {},
   "outputs": [
    {
     "data": {
      "image/png": "[encoded data removed]",
      "text/plain": [
       "<Figure size 432x288 with 1 Axes>"
      ]
     },
     "metadata": {},
     "output_type": "display_data"
    }
   ],
   "source": [
    "# use magic command for Jupyter Notebooks\n",
    "%matplotlib inline\n",
    "# Set the style\n",
    "plt.style.use('fivethirtyeight')\n",
    "# list of x locations for plotting\n",
    "x_values = list(range(len(importance_value)))\n",
    "# Make a bar chart\n",
    "plt.bar(x_values, importance_value, orientation = 'vertical')\n",
    "# Tick labels for x axis\n",
    "plt.xticks(x_values, X_train.columns, rotation='vertical')\n",
    "# Axis labels and title\n",
    "plt.ylabel('Importance'); plt.xlabel('Variable'); plt.title('Variable Importances');"
   ]
  },
  {
   "cell_type": "code",
   "execution_count": 62,
   "metadata": {},
   "outputs": [
    {
     "data": {
      "image/png": "[encoded data removed]",
      "text/plain": [
       "<Figure size 576x360 with 1 Axes>"
      ]
     },
     "metadata": {},
     "output_type": "display_data"
    }
   ],
   "source": [
    "# it can also be done\n",
    "# converting into DataFrame\n",
    "importance_data=pd.DataFrame(importance_features,columns=['features','importance'])\n",
    "importance_data\n",
    "\n",
    "# plotting\n",
    "plt.figure(figsize=(8,5))\n",
    "plt.barh(importance_data['features'],importance_data['importance'])\n",
    "plt.gca().invert_yaxis()\n",
    "plt.show()"
   ]
  },
  {
   "cell_type": "code",
   "execution_count": 63,
   "metadata": {},
   "outputs": [],
   "source": [
    "# let's drop the features which have low importance\n",
    "X.columns\n",
    "X1=X.drop(columns=['capital-loss','sex'],axis=1)"
   ]
  },
  {
   "cell_type": "code",
   "execution_count": 64,
   "metadata": {},
   "outputs": [],
   "source": [
    "X_train1,X_test1,y_train1,y_test1=train_test_split(X1,Y,random_state=100,train_size=0.75)"
   ]
  },
  {
   "cell_type": "code",
   "execution_count": 65,
   "metadata": {},
   "outputs": [],
   "source": [
    "model1=RandomForestClassifier()\n",
    "model.fit(X_train1,y_train1)\n",
    "y_pred1=model.predict(X_test1)"
   ]
  },
  {
   "cell_type": "code",
   "execution_count": 66,
   "metadata": {},
   "outputs": [
    {
     "name": "stdout",
     "output_type": "stream",
     "text": [
      "[[5487  693]\n",
      " [ 998  963]]\n"
     ]
    },
    {
     "data": {
      "text/plain": [
       "0.7922859599557794"
      ]
     },
     "execution_count": 66,
     "metadata": {},
     "output_type": "execute_result"
    }
   ],
   "source": [
    "cm2=confusion_matrix(y_test1,y_pred1)\n",
    "print(cm2)\n",
    "accuracy_score(y_test1,y_pred1)"
   ]
  },
  {
   "cell_type": "markdown",
   "metadata": {},
   "source": [
    "#### Prepare the Model which have high accuracy (That is SVM (kernel='rbf',C=100.0) with Normalized data)"
   ]
  },
  {
   "cell_type": "code",
   "execution_count": 128,
   "metadata": {},
   "outputs": [],
   "source": [
    "# normalization\n",
    "scaler=MinMaxScaler()\n",
    "Scaled_X_train=scaler.fit_transform(X_train)\n",
    "Scaled_X_test=scaler.transform(X_test)"
   ]
  },
  {
   "cell_type": "code",
   "execution_count": 129,
   "metadata": {},
   "outputs": [],
   "source": [
    "# build model\n",
    "svclassifier=SVC(kernel='rbf',C=100.0)\n",
    "svclassifier.fit(Scaled_X_train, y_train)\n",
    "y_pred=svclassifier.predict(Scaled_X_test)"
   ]
  },
  {
   "cell_type": "code",
   "execution_count": 132,
   "metadata": {},
   "outputs": [
    {
     "name": "stdout",
     "output_type": "stream",
     "text": [
      "confusion_matrix:\n",
      " [[5997  306]\n",
      " [ 978  860]]\n",
      "\n",
      "Accuracy: 84.23\n"
     ]
    }
   ],
   "source": [
    "cm=confusion_matrix(y_test,y_pred)\n",
    "print('confusion_matrix:\\n',cm)\n",
    "print('\\nAccuracy:',round(accuracy_score(y_test,y_pred)*100,2))"
   ]
  },
  {
   "cell_type": "code",
   "execution_count": 133,
   "metadata": {},
   "outputs": [
    {
     "data": {
      "text/html": [
       "<div>\n",
       "<style scoped>\n",
       "    .dataframe tbody tr th:only-of-type {\n",
       "        vertical-align: middle;\n",
       "    }\n",
       "\n",
       "    .dataframe tbody tr th {\n",
       "        vertical-align: top;\n",
       "    }\n",
       "\n",
       "    .dataframe thead th {\n",
       "        text-align: right;\n",
       "    }\n",
       "</style>\n",
       "<table border=\"1\" class=\"dataframe\">\n",
       "  <thead>\n",
       "    <tr style=\"text-align: right;\">\n",
       "      <th></th>\n",
       "      <th>age</th>\n",
       "      <th>fnlwgt</th>\n",
       "      <th>education-num</th>\n",
       "      <th>sex</th>\n",
       "      <th>capital-gain</th>\n",
       "      <th>capital-loss</th>\n",
       "      <th>hours-per-week</th>\n",
       "    </tr>\n",
       "  </thead>\n",
       "  <tbody>\n",
       "    <tr>\n",
       "      <th>13474</th>\n",
       "      <td>51</td>\n",
       "      <td>284211</td>\n",
       "      <td>9</td>\n",
       "      <td>0</td>\n",
       "      <td>0</td>\n",
       "      <td>0</td>\n",
       "      <td>35</td>\n",
       "    </tr>\n",
       "    <tr>\n",
       "      <th>28958</th>\n",
       "      <td>36</td>\n",
       "      <td>119957</td>\n",
       "      <td>13</td>\n",
       "      <td>0</td>\n",
       "      <td>0</td>\n",
       "      <td>0</td>\n",
       "      <td>35</td>\n",
       "    </tr>\n",
       "    <tr>\n",
       "      <th>14735</th>\n",
       "      <td>30</td>\n",
       "      <td>164190</td>\n",
       "      <td>15</td>\n",
       "      <td>1</td>\n",
       "      <td>0</td>\n",
       "      <td>0</td>\n",
       "      <td>40</td>\n",
       "    </tr>\n",
       "  </tbody>\n",
       "</table>\n",
       "</div>"
      ],
      "text/plain": [
       "       age  fnlwgt  education-num  sex  capital-gain  capital-loss  \\\n",
       "13474   51  284211              9    0             0             0   \n",
       "28958   36  119957             13    0             0             0   \n",
       "14735   30  164190             15    1             0             0   \n",
       "\n",
       "       hours-per-week  \n",
       "13474              35  \n",
       "28958              35  \n",
       "14735              40  "
      ]
     },
     "execution_count": 133,
     "metadata": {},
     "output_type": "execute_result"
    }
   ],
   "source": [
    "X_train.head(n=3)"
   ]
  },
  {
   "cell_type": "code",
   "execution_count": 134,
   "metadata": {},
   "outputs": [
    {
     "name": "stdout",
     "output_type": "stream",
     "text": [
      "Min age 17 and Mix age 90\n",
      "\n",
      "Min fnlwgt 13769 and Mix fnlwgt 1484705\n",
      "\n",
      "Min capital-gain 0 and Mix capital-gain 99999\n",
      "\n",
      "Min capital-loss 0 and Mix capital-loss 4356\n",
      "\n",
      "Min hours-per-week 1 and Mix hours-per-week 99\n",
      "\n",
      "Min education-num 1 and Mix education-num 16\n"
     ]
    }
   ],
   "source": [
    "# quantitative variable\n",
    "print('Min age {0} and Mix age {1}'.format(np.min(X_train['age']),np.max(X_train['age'])))\n",
    "print('\\nMin fnlwgt {0} and Mix fnlwgt {1}'.format(np.min(X_train['fnlwgt']),np.max(X_train['fnlwgt'])))\n",
    "print('\\nMin capital-gain {0} and Mix capital-gain {1}'.format(np.min(X_train['capital-gain']),np.max(X_train['capital-gain'])))\n",
    "print('\\nMin capital-loss {0} and Mix capital-loss {1}'.format(np.min(X_train['capital-loss']),np.max(X_train['capital-loss'])))\n",
    "print('\\nMin hours-per-week {0} and Mix hours-per-week {1}'.format(np.min(X_train['hours-per-week']),np.max(X_train['hours-per-week'])))\n",
    "print('\\nMin education-num {0} and Mix education-num {1}'.format(np.min(X_train['education-num']),np.max(X_train['education-num'])))\n",
    "# sex is categorical 1 and 0 so no need to check."
   ]
  },
  {
   "cell_type": "code",
   "execution_count": 135,
   "metadata": {},
   "outputs": [
    {
     "data": {
      "text/html": [
       "<div>\n",
       "<style scoped>\n",
       "    .dataframe tbody tr th:only-of-type {\n",
       "        vertical-align: middle;\n",
       "    }\n",
       "\n",
       "    .dataframe tbody tr th {\n",
       "        vertical-align: top;\n",
       "    }\n",
       "\n",
       "    .dataframe thead th {\n",
       "        text-align: right;\n",
       "    }\n",
       "</style>\n",
       "<table border=\"1\" class=\"dataframe\">\n",
       "  <thead>\n",
       "    <tr style=\"text-align: right;\">\n",
       "      <th></th>\n",
       "      <th>age</th>\n",
       "      <th>fnlwgt</th>\n",
       "      <th>education-num</th>\n",
       "      <th>sex</th>\n",
       "      <th>capital-gain</th>\n",
       "      <th>capital-loss</th>\n",
       "      <th>hours-per-week</th>\n",
       "    </tr>\n",
       "  </thead>\n",
       "  <tbody>\n",
       "    <tr>\n",
       "      <th>0</th>\n",
       "      <td>50</td>\n",
       "      <td>700000</td>\n",
       "      <td>9</td>\n",
       "      <td>1</td>\n",
       "      <td>55000</td>\n",
       "      <td>200</td>\n",
       "      <td>50</td>\n",
       "    </tr>\n",
       "    <tr>\n",
       "      <th>1</th>\n",
       "      <td>34</td>\n",
       "      <td>300000</td>\n",
       "      <td>5</td>\n",
       "      <td>0</td>\n",
       "      <td>43000</td>\n",
       "      <td>50</td>\n",
       "      <td>17</td>\n",
       "    </tr>\n",
       "    <tr>\n",
       "      <th>2</th>\n",
       "      <td>19</td>\n",
       "      <td>90000</td>\n",
       "      <td>3</td>\n",
       "      <td>1</td>\n",
       "      <td>19000</td>\n",
       "      <td>0</td>\n",
       "      <td>6</td>\n",
       "    </tr>\n",
       "    <tr>\n",
       "      <th>3</th>\n",
       "      <td>19</td>\n",
       "      <td>30000</td>\n",
       "      <td>3</td>\n",
       "      <td>0</td>\n",
       "      <td>5000</td>\n",
       "      <td>15</td>\n",
       "      <td>4</td>\n",
       "    </tr>\n",
       "    <tr>\n",
       "      <th>4</th>\n",
       "      <td>18</td>\n",
       "      <td>15000</td>\n",
       "      <td>1</td>\n",
       "      <td>1</td>\n",
       "      <td>0</td>\n",
       "      <td>0</td>\n",
       "      <td>2</td>\n",
       "    </tr>\n",
       "    <tr>\n",
       "      <th>5</th>\n",
       "      <td>17</td>\n",
       "      <td>13769</td>\n",
       "      <td>1</td>\n",
       "      <td>0</td>\n",
       "      <td>0</td>\n",
       "      <td>0</td>\n",
       "      <td>1</td>\n",
       "    </tr>\n",
       "    <tr>\n",
       "      <th>6</th>\n",
       "      <td>43</td>\n",
       "      <td>200000</td>\n",
       "      <td>7</td>\n",
       "      <td>0</td>\n",
       "      <td>15</td>\n",
       "      <td>15</td>\n",
       "      <td>11</td>\n",
       "    </tr>\n",
       "    <tr>\n",
       "      <th>7</th>\n",
       "      <td>34</td>\n",
       "      <td>1000000</td>\n",
       "      <td>11</td>\n",
       "      <td>0</td>\n",
       "      <td>300000</td>\n",
       "      <td>100</td>\n",
       "      <td>34</td>\n",
       "    </tr>\n",
       "  </tbody>\n",
       "</table>\n",
       "</div>"
      ],
      "text/plain": [
       "   age   fnlwgt  education-num  sex  capital-gain  capital-loss  \\\n",
       "0   50   700000              9    1         55000           200   \n",
       "1   34   300000              5    0         43000            50   \n",
       "2   19    90000              3    1         19000             0   \n",
       "3   19    30000              3    0          5000            15   \n",
       "4   18    15000              1    1             0             0   \n",
       "5   17    13769              1    0             0             0   \n",
       "6   43   200000              7    0            15            15   \n",
       "7   34  1000000             11    0        300000           100   \n",
       "\n",
       "   hours-per-week  \n",
       "0              50  \n",
       "1              17  \n",
       "2               6  \n",
       "3               4  \n",
       "4               2  \n",
       "5               1  \n",
       "6              11  \n",
       "7              34  "
      ]
     },
     "execution_count": 135,
     "metadata": {},
     "output_type": "execute_result"
    }
   ],
   "source": [
    "# make data for prediction\n",
    "Prepare_data = {'age': [50,34,19,19,18,17,43,34], \n",
    "                'fnlwgt': [700000,300000,90000,30000,15000,13769,200000,1000000], \n",
    "                'education-num': [9,5,3,3,1,1,7,11], \n",
    "                'sex': [1,0,1,0,1,0,0,0],\n",
    "                'capital-gain': [55000,43000,19000,5000,0,0,15,300000],\n",
    "                'capital-loss':[200,50,0,15,0,0,15,100],\n",
    "                 'hours-per-week':[50,17,6,4,2,1,11,34]}\n",
    "\n",
    "# convert it into dataframe\n",
    "data=pd.DataFrame(Prepare_data)\n",
    "data"
   ]
  },
  {
   "cell_type": "code",
   "execution_count": 136,
   "metadata": {},
   "outputs": [],
   "source": [
    "# normalized\n",
    "scaled_data=scaler.transform(data)"
   ]
  },
  {
   "cell_type": "code",
   "execution_count": 137,
   "metadata": {},
   "outputs": [
    {
     "name": "stdout",
     "output_type": "stream",
     "text": [
      "Predictions are :  [1 1 0 0 0 0 0 1]\n"
     ]
    }
   ],
   "source": [
    "# give model to predict\n",
    "predict_result=svclassifier.predict(scaled_data)\n",
    "print('Predictions are : ',predict_result)"
   ]
  }
 ],
 "metadata": {
  "kernelspec": {
   "display_name": "Python 3",
   "language": "python",
   "name": "python3"
  },
  "language_info": {
   "codemirror_mode": {
    "name": "ipython",
    "version": 3
   },
   "file_extension": ".py",
   "mimetype": "text/x-python",
   "name": "python",
   "nbconvert_exporter": "python",
   "pygments_lexer": "ipython3",
   "version": "3.8.5"
  },
  "toc": {
   "base_numbering": 1,
   "nav_menu": {},
   "number_sections": false,
   "sideBar": true,
   "skip_h1_title": false,
   "title_cell": "Table of Contents",
   "title_sidebar": "Contents",
   "toc_cell": false,
   "toc_position": {},
   "toc_section_display": true,
   "toc_window_display": false
  }
 },
 "nbformat": 4,
 "nbformat_minor": 4
}
